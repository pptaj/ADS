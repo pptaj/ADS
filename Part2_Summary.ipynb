{
 "cells": [
  {
   "cell_type": "code",
   "execution_count": 157,
   "metadata": {
    "collapsed": false
   },
   "outputs": [
    {
     "name": "stdout",
     "output_type": "stream",
     "text": [
      "2003\n",
      "2003\n",
      "END OF PROGRAM\n"
     ]
    }
   ],
   "source": [
    "import os, sys\n",
    "import re\n",
    "import pandas as pd\n",
    "import numpy as np\n",
    "\n",
    "\n",
    "dir_path = \"Files2\"\n",
    "ls_dir = os.listdir(dir_path)\n",
    "year = 0;\n",
    "\n",
    "# Finding Directory or year for which csv are present\n",
    "for file in ls_dir:\n",
    "    regexp = re.compile(r'.txt')\n",
    "    print(file)\n",
    "    if not(regexp.search(file)):\n",
    "        year = file\n",
    "    \n",
    "# Setting Directory for the year    \n",
    "if not(year == 0):\n",
    "    print(year)\n",
    "    dir_path += \"/\" + str(year)\n",
    "else:\n",
    "    print(\"No Files found! Ending Program\")\n",
    "    sys.exit()\n",
    "    \n",
    "#loading the data\n",
    "ls_dir = os.listdir(dir_path)\n",
    "\n",
    "dir_path += \"/Cleaned_Files/\"\n",
    "filePath = dir_path + \"Final.csv\"\n",
    "\n",
    "fileData = pd.read_csv(filePath,header = 0)\n",
    "fileData = fileData.ix[:, 2:24]\n",
    "\n",
    "#Processing the data\n",
    "#     number of unique accn numbers - accesd per month\n",
    "summary_unique_accn_per_month_func = summary_unique_accn_per_month_func(fileData)\n",
    "# save summary to file\n",
    "saveToCsv(summary_unique_accn_per_month_func, dir_path + \"unique_accn_number.csv\")\n",
    "\n",
    "# #    busiest hour of the day\n",
    "# busiest_hour_of_day = busiest_hour_of_day(fileData)\n",
    "# # save summary to file\n",
    "# saveToCsv(busiest_hour_of_day, dir_path + \"busiest_hour_of_day.csv\")\n",
    "\n",
    "print(\"END OF PROGRAM\")"
   ]
  },
  {
   "cell_type": "code",
   "execution_count": 154,
   "metadata": {
    "collapsed": true
   },
   "outputs": [],
   "source": [
    "# SAving dataframe to csv\n",
    "def saveToCsv(dataframe, filePath):\n",
    "    dataframe.to_csv(filePath, sep=',')"
   ]
  },
  {
   "cell_type": "code",
   "execution_count": 155,
   "metadata": {
    "collapsed": false
   },
   "outputs": [],
   "source": [
    "def summary_unique_accn_per_month_func(fileData):\n",
    "#     group = fileData.groupby(['month', 'accession'])\n",
    "    d= pd.DataFrame({'count' : fileData.groupby( [ \"month\", \"accession\"] ).size()}).reset_index()\n",
    "#     group = d.groupby(['month'])\n",
    "    d= pd.DataFrame({'unique_accessions_accessed' : d.groupby( [ \"month\"] ).size()}).reset_index()\n",
    "#     print(d)\n",
    "    return d\n",
    "    "
   ]
  },
  {
   "cell_type": "code",
   "execution_count": 156,
   "metadata": {
    "collapsed": false
   },
   "outputs": [],
   "source": [
    "# def busiest_hour_of_day(fileData):\n",
    "\n",
    "# #     d= pd.DataFrame({'counta' : fileData.groupby( [ \"month\", \"h\"] ).size()}).reset_index()\n",
    "# # #     d= pd.DataFrame({'count' : d.groupby( [ \"month\"] )['counta'].max()}).reset_index()\n",
    "# #     d.sort_values(['counta'], ascending=[False])\n",
    "# # #     d= pd.DataFrame( d.groupby( [ \"month\", \"h\"] ).first()).reset_index()\n",
    "# #     d= pd.DataFrame({'count' : fileData.groupby( [ \"month\", \"h\"] ).first()}).reset_index()\n",
    "# # #     df.groupby(['Mt'], sort=False)['count'].max()\n",
    "#     return d"
   ]
  }
 ],
 "metadata": {
  "kernelspec": {
   "display_name": "Python [default]",
   "language": "python",
   "name": "python3"
  },
  "language_info": {
   "codemirror_mode": {
    "name": "ipython",
    "version": 3
   },
   "file_extension": ".py",
   "mimetype": "text/x-python",
   "name": "python",
   "nbconvert_exporter": "python",
   "pygments_lexer": "ipython3",
   "version": "3.5.2"
  }
 },
 "nbformat": 4,
 "nbformat_minor": 2
}
