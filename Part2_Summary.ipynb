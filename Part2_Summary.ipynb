{
 "cells": [
  {
   "cell_type": "code",
   "execution_count": 18,
   "metadata": {
    "collapsed": false
   },
   "outputs": [
    {
     "name": "stderr",
     "output_type": "stream",
     "text": [
      "Summarizing Data\n"
     ]
    },
    {
     "name": "stdout",
     "output_type": "stream",
     "text": [
      "Progress : 1%"
     ]
    },
    {
     "name": "stderr",
     "output_type": "stream",
     "text": [
      "Summarizing for Cleaned_log20030101.csv\n",
      "Summarizing for Cleaned_log20030201.csv\n",
      "Summarizing for Cleaned_log20030301.csv\n"
     ]
    },
    {
     "name": "stdout",
     "output_type": "stream",
     "text": [
      "\r",
      "Progress : 4%\r",
      "Progress : 24%\r",
      "Progress : 30%\r",
      "Progress : 36%"
     ]
    },
    {
     "name": "stderr",
     "output_type": "stream",
     "text": [
      "Summarizing for Cleaned_log20030401.csv\n"
     ]
    },
    {
     "name": "stdout",
     "output_type": "stream",
     "text": [
      "Progress : 48%"
     ]
    },
    {
     "name": "stderr",
     "output_type": "stream",
     "text": [
      "Summarizing for Cleaned_log20030501.csv\n"
     ]
    },
    {
     "name": "stdout",
     "output_type": "stream",
     "text": [
      "\r",
      "Progress : 54%"
     ]
    },
    {
     "name": "stderr",
     "output_type": "stream",
     "text": [
      "Summarizing for Cleaned_log20030601.csv\n"
     ]
    },
    {
     "name": "stdout",
     "output_type": "stream",
     "text": [
      "\r",
      "Progress : 60%"
     ]
    },
    {
     "name": "stderr",
     "output_type": "stream",
     "text": [
      "Summarizing for Cleaned_log20030701.csv\n"
     ]
    },
    {
     "name": "stdout",
     "output_type": "stream",
     "text": [
      "\r",
      "Progress : 66%"
     ]
    },
    {
     "name": "stderr",
     "output_type": "stream",
     "text": [
      "Summarizing for Cleaned_log20030801.csv\n"
     ]
    },
    {
     "name": "stdout",
     "output_type": "stream",
     "text": [
      "\r",
      "Progress : 72%"
     ]
    },
    {
     "name": "stderr",
     "output_type": "stream",
     "text": [
      "Summarizing for Cleaned_log20030901.csv\n",
      "Summarizing for Cleaned_log20031001.csv\n"
     ]
    },
    {
     "name": "stdout",
     "output_type": "stream",
     "text": [
      "\r",
      "Progress : 78%"
     ]
    },
    {
     "name": "stderr",
     "output_type": "stream",
     "text": [
      "Summarizing for Cleaned_log20031101.csv\n"
     ]
    },
    {
     "name": "stdout",
     "output_type": "stream",
     "text": [
      "\r",
      "Progress : 84%"
     ]
    },
    {
     "name": "stderr",
     "output_type": "stream",
     "text": [
      "Summarizing for Cleaned_log20031201.csv\n"
     ]
    },
    {
     "name": "stdout",
     "output_type": "stream",
     "text": [
      "Progress : 96%"
     ]
    },
    {
     "name": "stderr",
     "output_type": "stream",
     "text": [
      "Data Summarized and Saved\n"
     ]
    },
    {
     "name": "stdout",
     "output_type": "stream",
     "text": [
      "\r",
      "Progress : 100%"
     ]
    }
   ],
   "source": [
    "import os, sys\n",
    "import re\n",
    "import pandas as pd\n",
    "import numpy as np\n",
    "import logging, sys, time\n",
    "\n",
    "\n",
    "logger = get_logger()\n",
    "logger.info(\"Summarizing Data\")\n",
    "sys.stdout.write(\"\\rProgress : %d%%\" % 0)\n",
    "time.sleep(1)\n",
    "sys.stdout.write(\"\\rProgress : %d%%\" % 1)\n",
    "time.sleep(1)\n",
    "\n",
    "\n",
    "dir_path = \"Files2\"\n",
    "ls_dir = os.listdir(dir_path)\n",
    "year = 0;\n",
    "\n",
    "# Finding Directory or year for which csv are present (this will look for the last folder only)\n",
    "for file in ls_dir:\n",
    "    regexp = re.compile(r'.txt|.log')\n",
    "#     print(file)\n",
    "    if not(regexp.search(file)):\n",
    "        year = file\n",
    "sys.stdout.write(\"\\rProgress : %d%%\" % 4)    \n",
    "# Setting Directory for the year    \n",
    "if not(year == 0):\n",
    "#     print(year)\n",
    "    dir_path += \"/\" + str(year)\n",
    "else:\n",
    "    print(\"No Files found! Ending Program\")\n",
    "    sys.exit()\n",
    "    \n",
    "#Going into the Cleaned Files Directory\n",
    "\n",
    "\n",
    "\n",
    "dir_path += \"/Cleaned_Files/\"\n",
    "sys.stdout.write(\"\\rProgress : %d%%\" % 24)\n",
    "ls_dir = os.listdir(dir_path)\n",
    "# print(ls_dir)\n",
    "\n",
    "# Looping over all cleaned csv files and summarizing the data\n",
    "x = 24\n",
    "\n",
    "for file in ls_dir:\n",
    "    \n",
    "    regexp = re.compile(r'.csv')\n",
    "    x += 6\n",
    "    \n",
    "#     Looking only for csv files in the directory\n",
    "    if(regexp.search(file)):\n",
    "        logger.info(\"Summarizing for \" + file)\n",
    "        filePath = dir_path + file\n",
    "        fileData = pd.read_csv(filePath,header = 0)\n",
    "        fileData = fileData.ix[:, 2:24]\n",
    "        sys.stdout.write(\"\\rProgress : %d%%\" % x)\n",
    "#     ____________________________________________________\n",
    "# CODE TO SUMMARIZE THE DATA\n",
    "\n",
    "#     number of unique accn numbers - accesd per month\n",
    "        summary_count_unique_accn_per_month_func(fileData, filePath)\n",
    "        count_of_accession_for_code(fileData, filePath)\n",
    "        summary_count_all_accn_for_month_func(fileData, filePath)\n",
    "        count_of_files_by_extention(fileData, filePath)\n",
    "        \n",
    "\n",
    "\n",
    "# _______________________________________________________________\n",
    "\n",
    "logger.info(\"Data Summarized and Saved\")\n",
    "logger.removeHandler(\"handler\")\n",
    "logging.shutdown()\n",
    "sys.stdout.write(\"\\rProgress : %d%%\" % 100)\n",
    "sys.stdout.flush()\n"
   ]
  },
  {
   "cell_type": "code",
   "execution_count": 12,
   "metadata": {
    "collapsed": true
   },
   "outputs": [],
   "source": [
    "# Saving dataframe to csv\n",
    "def saveToCsv(dataframe, filePath, summaryParam):\n",
    "    fp = re.split('/', filePath, flags=re.IGNORECASE)\n",
    "    directory = fp[0] + \"/\" + fp[1]  + \"/\" + fp [2] + \"/\"\n",
    "    directory += \"Summary\"\n",
    "    create_directory(directory)\n",
    "    new_file_path = directory + \"/\" + summaryParam + \"_\" + fp[3]\n",
    "    dataframe.to_csv(new_file_path, sep=',')"
   ]
  },
  {
   "cell_type": "code",
   "execution_count": 13,
   "metadata": {
    "collapsed": false
   },
   "outputs": [],
   "source": [
    "def summary_count_unique_accn_per_month_func(fileData, filePath):\n",
    "#     Grouping by month and accession to get a list of unique month and accen pair\n",
    "    d= pd.DataFrame({'count' : fileData.groupby( [ \"month\", \"accession\"] ).size()}).reset_index()\n",
    "# Grouping by month to get the count of unique accn numbers in the month ()\n",
    "    d= pd.DataFrame({'unique_accessions_accessed' : d.groupby( [ \"month\"] ).size()}).reset_index()\n",
    "    try:\n",
    "        saveToCsv(d, filePath, \"Count_Unique_Accession_Number\")\n",
    "#         print(\"Unique accn Summary File Saved\")\n",
    "    except:\n",
    "        print(\"Unique accn summary file couldn't be saved. Permission Denied Exception\")\n",
    "        pass"
   ]
  },
  {
   "cell_type": "code",
   "execution_count": 14,
   "metadata": {
    "collapsed": true
   },
   "outputs": [],
   "source": [
    "def get_logger():\n",
    "    create_directory(\"Files2\")\n",
    "    loglevel = logging.INFO            # DEBUG, CRITICAL, WARNING, ERROR\n",
    "    logger = logging.getLogger(\"Application_Logs\")\n",
    "    logger2 = logging.getLogger(\"Application_Logs_Stream\")\n",
    "    if not getattr(logger, 'handler_set', None):\n",
    "        logger.setLevel(logging.INFO)\n",
    "#         Logfile handler\n",
    "        handler = logging.FileHandler('Files2/logs.log')\n",
    "        handler2 = logging.StreamHandler()\n",
    "        formatter = logging.Formatter('%(asctime)s %(levelname)s %(message)s')\n",
    "        handler.setFormatter(formatter)\n",
    "        logger.addHandler(handler)\n",
    "        logger.addHandler(handler2)\n",
    "        logger.setLevel(loglevel)\n",
    "        logger.handler_set = True\n",
    "#       Stream Handler\n",
    "    if not getattr(logger, 'handler_set', None):\n",
    "        logger2.setLevel(logging.INFO)\n",
    "        handler2 = logging.StreamHandler()\n",
    "        handler2.setFormatter(formatter)\n",
    "        logger2.addHandler(handler2)\n",
    "        logger2.setLevel(loglevel)\n",
    "        logger2.handler_set = True\n",
    "        \n",
    "    return logger\n",
    "\n",
    "\n",
    "def create_directory(dir_name):\n",
    "    if not os.path.exists(dir_name):\n",
    "        os.makedirs(dir_name)"
   ]
  },
  {
   "cell_type": "code",
   "execution_count": 15,
   "metadata": {
    "collapsed": true
   },
   "outputs": [],
   "source": [
    "def count_of_accession_for_code(fileData, filePath):\n",
    "\n",
    "    d = fileData.groupby('code')['accession'].count().reset_index(name=\"Count per Response\")\n",
    "#     print(type(d))\n",
    "    try:\n",
    "        saveToCsv(d, filePath, \"Count_Accession_For_Error_Code\")\n",
    "#         print(\"Count_Error_Codes_For_Accession Summary File Saved\")\n",
    "    except:\n",
    "        print(\"Count_Error_Codes_For_Accession summary file couldn't be saved. Permission Denied Exception\")\n",
    "        pass"
   ]
  },
  {
   "cell_type": "code",
   "execution_count": 16,
   "metadata": {
    "collapsed": true
   },
   "outputs": [],
   "source": [
    "def count_of_files_by_extention(fileData, filePath):\n",
    "\n",
    "    d = fileData.groupby(['true_extention'])['true_extention'].count().reset_index(name=\"Count per Extension\")\n",
    "#     print(type(d))\n",
    "    try:\n",
    "        saveToCsv(d, filePath, \"Count_of_files_by_extention\")\n",
    "#         print(\"Count_Error_Codes_For_Accession Summary File Saved\")\n",
    "    except:\n",
    "        print(\"Count_of_files_by_extention summary file couldn't be saved. Permission Denied Exception\")\n",
    "        pass"
   ]
  },
  {
   "cell_type": "code",
   "execution_count": 17,
   "metadata": {
    "collapsed": true
   },
   "outputs": [],
   "source": [
    "def summary_count_all_accn_for_month_func(fileData, filePath):\n",
    "    d= fileData.groupby('month')['accession'].count().reset_index(name=\"# of accessions\")\n",
    "    try:\n",
    "        saveToCsv(d, filePath, \"Count_All_Accession_Number\")\n",
    "\n",
    "    except:\n",
    "        print(\"Unique accn summary file couldn't be saved. Permission Denied Exception\")\n",
    "        pass"
   ]
  }
 ],
 "metadata": {
  "anaconda-cloud": {},
  "kernelspec": {
   "display_name": "Python [default]",
   "language": "python",
   "name": "python3"
  },
  "language_info": {
   "codemirror_mode": {
    "name": "ipython",
    "version": 3
   },
   "file_extension": ".py",
   "mimetype": "text/x-python",
   "name": "python",
   "nbconvert_exporter": "python",
   "pygments_lexer": "ipython3",
   "version": "3.5.2"
  }
 },
 "nbformat": 4,
 "nbformat_minor": 2
}
