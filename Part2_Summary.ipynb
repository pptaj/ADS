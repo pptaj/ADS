{
 "cells": [
  {
   "cell_type": "code",
   "execution_count": 57,
   "metadata": {
    "collapsed": false
   },
   "outputs": [
    {
     "name": "stdout",
     "output_type": "stream",
     "text": [
      "2003\n",
      "2003\n",
      "['Cleaned_log20030101.csv', 'Cleaned_log20030201.csv', 'Cleaned_log20030301.csv', 'Cleaned_log20030401.csv', 'Cleaned_log20030501.csv', 'Cleaned_log20030601.csv', 'Cleaned_log20030701.csv', 'Cleaned_log20030801.csv', 'Cleaned_log20030901.csv', 'Cleaned_log20031001.csv', 'Cleaned_log20031101.csv', 'Cleaned_log20031201.csv', 'Summary']\n",
      "Unique accn Summary File Saved\n",
      "Unique accn Summary File Saved\n",
      "Unique accn Summary File Saved\n",
      "Unique accn Summary File Saved\n",
      "Unique accn Summary File Saved\n",
      "Unique accn Summary File Saved\n",
      "Unique accn Summary File Saved\n",
      "Unique accn Summary File Saved\n",
      "Unique accn Summary File Saved\n",
      "Unique accn Summary File Saved\n",
      "Unique accn Summary File Saved\n",
      "Unique accn Summary File Saved\n",
      "END OF PROGRAM\n"
     ]
    }
   ],
   "source": [
    "import os, sys\n",
    "import re\n",
    "import pandas as pd\n",
    "import numpy as np\n",
    "\n",
    "\n",
    "dir_path = \"Files2\"\n",
    "ls_dir = os.listdir(dir_path)\n",
    "year = 0;\n",
    "\n",
    "# Finding Directory or year for which csv are present (this will look for the last folder only)\n",
    "for file in ls_dir:\n",
    "    regexp = re.compile(r'.txt')\n",
    "    print(file)\n",
    "    if not(regexp.search(file)):\n",
    "        year = file\n",
    "    \n",
    "# Setting Directory for the year    \n",
    "if not(year == 0):\n",
    "    print(year)\n",
    "    dir_path += \"/\" + str(year)\n",
    "else:\n",
    "    print(\"No Files found! Ending Program\")\n",
    "    sys.exit()\n",
    "    \n",
    "#Going into the Cleaned Files Directory\n",
    "\n",
    "\n",
    "\n",
    "dir_path += \"/Cleaned_Files/\"\n",
    "\n",
    "ls_dir = os.listdir(dir_path)\n",
    "print(ls_dir)\n",
    "\n",
    "# Looping over all cleaned csv files and summarizing the data\n",
    "for file in ls_dir:\n",
    "    regexp = re.compile(r'.csv')\n",
    "    \n",
    "#     Looking only for csv files in the directory\n",
    "    if(regexp.search(file)):\n",
    "        filePath = dir_path + file\n",
    "        fileData = pd.read_csv(filePath,header = 0)\n",
    "        fileData = fileData.ix[:, 2:24]\n",
    "#     ____________________________________________________\n",
    "# CODE TO SUMMARIZE THE DATA\n",
    "\n",
    "#     number of unique accn numbers - accesd per month\n",
    "        summary_count_unique_accn_per_month_func(fileData, filePath)\n",
    "\n",
    "\n",
    "\n",
    "\n",
    "\n",
    "\n",
    "# _______________________________________________________________\n",
    "\n",
    "\n",
    "print(\"END OF PROGRAM\")"
   ]
  },
  {
   "cell_type": "code",
   "execution_count": 53,
   "metadata": {
    "collapsed": true
   },
   "outputs": [],
   "source": [
    "# Saving dataframe to csv\n",
    "def saveToCsv(dataframe, filePath, summaryParam):\n",
    "    fp = re.split('/', filePath, flags=re.IGNORECASE)\n",
    "    directory = fp[0] + \"/\" + fp[1]  + \"/\" + fp [2] + \"/\"\n",
    "    directory += \"Summary\"\n",
    "    create_directory(directory)\n",
    "    new_file_path = directory + \"/\" + summaryParam + \"_\" + fp[3]\n",
    "    dataframe.to_csv(new_file_path, sep=',')"
   ]
  },
  {
   "cell_type": "code",
   "execution_count": 54,
   "metadata": {
    "collapsed": false
   },
   "outputs": [],
   "source": [
    "def summary_count_unique_accn_per_month_func(fileData, filePath):\n",
    "#     Grouping by month and accession to get a list of unique month and accen pair\n",
    "    d= pd.DataFrame({'count' : fileData.groupby( [ \"month\", \"accession\"] ).size()}).reset_index()\n",
    "# Grouping by month to get the count of unique accn numbers in the month ()\n",
    "    d= pd.DataFrame({'unique_accessions_accessed' : d.groupby( [ \"month\"] ).size()}).reset_index()\n",
    "    try:\n",
    "        saveToCsv(d, filePath, \"Count_Unique_Accession_Number\")\n",
    "        print(\"Unique accn Summary File Saved\")\n",
    "    except:\n",
    "        print(\"Unique accn summary file couldn't be saved. Permission Denied Exception\")\n",
    "        pass"
   ]
  },
  {
   "cell_type": "code",
   "execution_count": 56,
   "metadata": {
    "collapsed": true
   },
   "outputs": [],
   "source": [
    "def create_directory(dir_name):\n",
    "    if not os.path.exists(dir_name):\n",
    "        os.makedirs(dir_name)"
   ]
  }
 ],
 "metadata": {
  "kernelspec": {
   "display_name": "Python [default]",
   "language": "python",
   "name": "python3"
  },
  "language_info": {
   "codemirror_mode": {
    "name": "ipython",
    "version": 3
   },
   "file_extension": ".py",
   "mimetype": "text/x-python",
   "name": "python",
   "nbconvert_exporter": "python",
   "pygments_lexer": "ipython3",
   "version": "3.5.2"
  }
 },
 "nbformat": 4,
 "nbformat_minor": 2
}
