{
 "cells": [
  {
   "cell_type": "code",
   "execution_count": null,
   "metadata": {
    "collapsed": false,
    "deletable": true,
    "editable": true
   },
   "outputs": [],
   "source": [
    "#10 K = 0001652044-17-000008, \n",
    "#1652044\n",
    "\n",
    "import time\n",
    "import urllib.response\n",
    "import urllib.request\n",
    "from bs4 import BeautifulSoup\n",
    "import pandas as pd\n",
    "import os\n",
    "import re\n",
    "from urllib.request import urlopen\n",
    "import csv\n",
    "import string\n",
    "from string import punctuation\n",
    "\n",
    "    \n",
    "    \n",
    "# READ CIK, ACCESSION NUMBER AND AMAZON KEYS FROM config.txt\n",
    "cik_read =\"\"\n",
    "accn_num_read =\"\"\n",
    "aws_read = \"\"git\n",
    "with open(\"config.txt\") as configfile:\n",
    "    for line in configfile:\n",
    "        name, val = line.partition(\"=\")[::2]\n",
    "        if (name==\"cik\"):\n",
    "            cik_read = val\n",
    "        elif (name==\"accession_number\"):\n",
    "            accn_num_read = val\n",
    "        elif (name==\"aws_key\"):\n",
    "            aws_read = val\n",
    "\n",
    "print(\"cik_read = \"+ cik_read.strip()+ \"accn_read = \" + accn_num_read.strip())\n",
    "\n",
    "# cik = input(\"Please enter CIK: \")\n",
    "# document_accession_number = input(\"Please enter accession number: \")\n",
    "\n",
    "cik = cik_read.strip()\n",
    "document_accession_number = accn_num_read.strip()\n",
    "aws_key = aws_read.strip()\n",
    "\n",
    "\n",
    "document_accession_number_without_dashes = re.sub('[-]', '', document_accession_number)\n",
    "url = \"https://www.sec.gov/Archives/edgar/data/\" + str(int(cik)) + \"/\" + document_accession_number_without_dashes + \"/\"\n",
    "url = url + document_accession_number +\"-index.html\"\n",
    "\n",
    "try:\n",
    "    \n",
    "\n",
    "    html = urlopen(url)\n",
    "    soup = BeautifulSoup(html,'html.parser')\n",
    "    cells = soup.findAll('td')\n",
    "\n",
    "    s = \"https://www.sec.gov\"\n",
    "    for cell in cells :\n",
    "        if cell.get_text().find('10-Q') > -1 :\n",
    "            a = cell.find_next_sibling(\"td\").find('a',href=True)\n",
    "            if a is not None:\n",
    "             if 'href' in a.attrs:\n",
    "                result = a['href']\n",
    "                s+=result\n",
    "                break\n",
    "    create_csv10Q(cik,document_accession_number, s) \n",
    "    for cell in cells :\n",
    "        if cell.get_text().find('10-K') > -1 :\n",
    "            a = cell.find_previous_sibling(\"td\").find('a')\n",
    "            if a is not None:\n",
    "             if 'href' in a.attrs:\n",
    "                result = a['href']\n",
    "                s+=result\n",
    "                print(s)\n",
    "                break\n",
    "    create_csv10k(cik,document_accession_number, s) \n",
    "\n",
    "except:\n",
    "    print(\"The cik and accession number pair doesn't exist\")\n",
    "    pass\n"
   ]
  },
  {
   "cell_type": "code",
   "execution_count": null,
   "metadata": {
    "collapsed": true
   },
   "outputs": [],
   "source": [
    "def create_csv_10Q(cik,document_accession_number, url):\n",
    "    html = urlopen(url)\n",
    "    soup = BeautifulSoup(html,\"html5lib\")\n",
    "    all_tables = soup.find_all(\"table\", border=1)\n",
    "    type(all_tables)\n",
    "    tables = []\n",
    "    for x in all_tables:\n",
    "        tables.append(x)\n",
    "    i=0\n",
    "    for table in tables:\n",
    "        data = []\n",
    "        i= i + 1\n",
    "        all_rows =  table.find_all('tr')\n",
    "        for row in all_rows:\n",
    "            cols = row.find_all('td')\n",
    "            cols = [(''.join(ch.strip('[\\n,$]') for ch in ele.text)).strip() for ele in cols]\n",
    "            #print(cols)\n",
    "            data.append([ele for ele in cols if ele])\n",
    "        write_file = open(\"Files/\"+\"table_\" + str(i) + '.csv', 'w')\n",
    "        for row in data:\n",
    "            for column in row:\n",
    "                write_file.write(column)\n",
    "                write_file.write(',')\n",
    "            write_file.write('\\n')\n",
    "        write_file.close()   \n",
    "\n",
    "        #intitalize row and column numbers"
   ]
  },
  {
   "cell_type": "code",
   "execution_count": 79,
   "metadata": {
    "collapsed": false
   },
   "outputs": [
    {
     "ename": "TypeError",
     "evalue": "unorderable types: ResultSet() > int()",
     "output_type": "error",
     "traceback": [
      "\u001b[0;31m---------------------------------------------------------------------------\u001b[0m",
      "\u001b[0;31mTypeError\u001b[0m                                 Traceback (most recent call last)",
      "\u001b[0;32m<ipython-input-79-f230ff4e37e1>\u001b[0m in \u001b[0;36m<module>\u001b[0;34m()\u001b[0m\n\u001b[1;32m     19\u001b[0m         \u001b[0mcols\u001b[0m \u001b[0;34m=\u001b[0m \u001b[0mrow\u001b[0m\u001b[0;34m.\u001b[0m\u001b[0mfind_all\u001b[0m\u001b[0;34m(\u001b[0m\u001b[0;34m'td'\u001b[0m\u001b[0;34m)\u001b[0m\u001b[0;34m\u001b[0m\u001b[0m\n\u001b[1;32m     20\u001b[0m         \u001b[0;32mfor\u001b[0m \u001b[0mcol\u001b[0m \u001b[0;32min\u001b[0m \u001b[0mcols\u001b[0m\u001b[0;34m:\u001b[0m\u001b[0;34m\u001b[0m\u001b[0m\n\u001b[0;32m---> 21\u001b[0;31m             \u001b[0;32mif\u001b[0m\u001b[0;34m(\u001b[0m\u001b[0mcol\u001b[0m\u001b[0;34m.\u001b[0m\u001b[0mfind_all\u001b[0m\u001b[0;34m(\u001b[0m\u001b[0;34m'div'\u001b[0m\u001b[0;34m,\u001b[0m\u001b[0mtext\u001b[0m\u001b[0;34m=\u001b[0m\u001b[0mre\u001b[0m\u001b[0;34m.\u001b[0m\u001b[0mcompile\u001b[0m\u001b[0;34m(\u001b[0m\u001b[0;34m'.$'\u001b[0m\u001b[0;34m)\u001b[0m\u001b[0;34m)\u001b[0m\u001b[0;34m)\u001b[0m\u001b[0;34m>\u001b[0m\u001b[0;34m-\u001b[0m\u001b[0;36m1\u001b[0m\u001b[0;34m:\u001b[0m\u001b[0;34m\u001b[0m\u001b[0m\n\u001b[0m\u001b[1;32m     22\u001b[0m                 \u001b[0mreq_tables\u001b[0m\u001b[0;34m.\u001b[0m\u001b[0mappend\u001b[0m\u001b[0;34m(\u001b[0m\u001b[0mtable\u001b[0m\u001b[0;34m)\u001b[0m\u001b[0;34m\u001b[0m\u001b[0m\n\u001b[1;32m     23\u001b[0m \u001b[0;34m\u001b[0m\u001b[0m\n",
      "\u001b[0;31mTypeError\u001b[0m: unorderable types: ResultSet() > int()"
     ]
    }
   ],
   "source": [
    "import re\n",
    "html = urlopen(\"https://www.sec.gov/Archives/edgar/data/1652044/000165204417000008/goog10-kq42016.htm\")\n",
    "#html = urlopen(\"https://www.sec.gov/Archives/edgar/data/51143/000005114313000007/ibm13q3_10q.htm\")\n",
    "\n",
    "soup = BeautifulSoup(html,\"html5lib\")\n",
    "all_tables = soup.find_all(\"table\")\n",
    "type(all_tables)\n",
    "\n",
    "tables = []\n",
    "req_tables = []\n",
    "for x in all_tables:\n",
    "    tables.append(x)\n",
    "    \n",
    "for table in tables:\n",
    "    data = []\n",
    "    i= i + 1\n",
    "    all_rows =  table.find_all('tr')\n",
    "    for row in all_rows:\n",
    "        cols = row.find_all('td')\n",
    "        \n",
    "    \n",
    "i=0\n",
    "for table in req_tables:\n",
    "    data = []\n",
    "    i= i + 1\n",
    "    all_rows =  table.find_all('tr')\n",
    "    for row in all_rows:\n",
    "        cols = row.find_all('td')\n",
    "        cols = [(''.join(ch.strip('[\\n,$]') for ch in ele.text)).strip() for ele in cols]\n",
    "        #print(cols)\n",
    "        data.append([ele for ele in cols if ele])\n",
    "    write_file = open(\"Files/\"+\"table_\" + str(i) + '.csv', 'w')\n",
    "    for row in data:\n",
    "        for column in row:\n",
    "            write_file.write(column)\n",
    "            write_file.write(',')\n",
    "        write_file.write('\\n')\n",
    "    write_file.close() \n",
    "print(len(req_tables))\n",
    "print(len(tables))\n",
    "\n",
    "#intitalize row and column numbers"
   ]
  },
  {
   "cell_type": "code",
   "execution_count": null,
   "metadata": {
    "collapsed": false,
    "deletable": true,
    "editable": true
   },
   "outputs": [],
   "source": []
  },
  {
   "cell_type": "code",
   "execution_count": null,
   "metadata": {
    "collapsed": false,
    "deletable": true,
    "editable": true
   },
   "outputs": [],
   "source": []
  },
  {
   "cell_type": "code",
   "execution_count": null,
   "metadata": {
    "collapsed": true,
    "deletable": true,
    "editable": true
   },
   "outputs": [],
   "source": []
  }
 ],
 "metadata": {
  "kernelspec": {
   "display_name": "Python 3",
   "language": "python",
   "name": "python3"
  },
  "language_info": {
   "codemirror_mode": {
    "name": "ipython",
    "version": 3
   },
   "file_extension": ".py",
   "mimetype": "text/x-python",
   "name": "python",
   "nbconvert_exporter": "python",
   "pygments_lexer": "ipython3",
   "version": "3.5.2"
  }
 },
 "nbformat": 4,
 "nbformat_minor": 1
}
