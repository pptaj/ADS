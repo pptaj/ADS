{
 "cells": [
  {
   "cell_type": "code",
   "execution_count": null,
   "metadata": {
    "collapsed": false
   },
   "outputs": [],
   "source": [
    "import urllib.response\n",
    "import urllib.request\n",
    "from bs4 import BeautifulSoup\n",
    "import pandas as pd\n",
    "from urllib.request import urlopen\n",
    "\n",
    "html = urlopen(\"https://www.sec.gov/Archives/edgar/data/51143/000005114313000007/ibm13q3_10q.htm\")\n",
    "\n",
    "soup = BeautifulSoup(html,\"lxml\")\n",
    "\n",
    "\n"
   ]
  },
  {
   "cell_type": "code",
   "execution_count": null,
   "metadata": {
    "collapsed": false
   },
   "outputs": [],
   "source": [
    "print (soup.prettify())"
   ]
  },
  {
   "cell_type": "code",
   "execution_count": null,
   "metadata": {
    "collapsed": false
   },
   "outputs": [],
   "source": [
    "all_tables = soup.find_all(\"table\")\n",
    "type(all_tables)\n",
    "tables = []\n",
    "for x in all_tables:\n",
    "     tables.append(x)\n",
    "len(tables)\n",
    "\n"
   ]
  },
  {
   "cell_type": "code",
   "execution_count": null,
   "metadata": {
    "collapsed": false
   },
   "outputs": [],
   "source": [
    "\n",
    "import pandas as pd\n",
    "import csv\n",
    "import string\n",
    "from string import punctuation\n",
    "\n",
    "#intitalize row and column numbers\n",
    "n_columns = 0\n",
    "n_rows=0\n",
    "column_names = []\n",
    "\n",
    "\n",
    "data = []\n",
    "\n",
    "\n",
    "all_rows =  tables[4].find_all('tr')\n",
    "for row in all_rows:\n",
    "    cols = row.find_all('td')\n",
    "    cols = [ele.text.strip() for ele in cols]\n",
    "    data.append([ele for ele in cols if ele]) \n",
    "      \n",
    "print(data)\n",
    "type(data)\n",
    "\n",
    "with open (r'csv1.csv', 'w', newline='') as write_file:\n",
    "    write=csv.writer(write_file,  delimiter = ',')\n",
    "    write.writerows([r] for r in data)"
   ]
  },
  {
   "cell_type": "code",
   "execution_count": null,
   "metadata": {
    "collapsed": false
   },
   "outputs": [],
   "source": [
    "parse_html_table(tables[3],tables[3])\n",
    "        \n",
    "    \n",
    "    "
   ]
  },
  {
   "cell_type": "code",
   "execution_count": 22,
   "metadata": {
    "collapsed": false
   },
   "outputs": [
    {
     "name": "stdout",
     "output_type": "stream",
     "text": [
      "Please enter CIK: 00051143\n",
      "Please enter accession number: 0000051143-13-000007\n",
      "https://www.sec.gov/Archives/edgar/data/51143/000005114313000007/0000051143-13-000007-index.html\n",
      "[<a href=\"/Archives/edgar/data/51143/000005114313000007/ibm13q3_10q.htm\">ibm13q3_10q.htm</a>]\n",
      "/Archives/edgar/data/51143/000005114313000007/ibm13q3_10q.htm\n"
     ]
    }
   ],
   "source": [
    "import urllib.response\n",
    "import urllib.request\n",
    "from bs4 import BeautifulSoup\n",
    "import pandas as pd\n",
    "import re\n",
    "from urllib.request import urlopen\n",
    "\n",
    "\n",
    "cik = input(\"Please enter CIK: \")\n",
    "document_accession_number = input(\"Please enter accession number: \")\n",
    "\n",
    "document_accession_number_without_dashes = re.sub('[-]', '', document_accession_number)\n",
    "url = \"https://www.sec.gov/Archives/edgar/data/\" + str(int(cik)) + \"/\" + document_accession_number_without_dashes + \"/\";\n",
    "url = url + document_accession_number +\"-index.html\"\n",
    "print(url)\n",
    "\n",
    "html = urlopen(url)\n",
    "\n",
    "soup = BeautifulSoup(html,'html.parser')\n",
    "list = soup.find_all(href=re.compile(\"_10q\"))\n",
    "print(list)\n",
    "list1 = str(list)[1:-1]\n",
    "\n",
    "start_link = list1.find(\"a href\")\n",
    "start_quote = list1.find('\"', start_link)\n",
    "end_quote = list1.find('\"', start_quote + 1)\n",
    "url2 = list1[start_quote + 1: end_quote]\n",
    "\n",
    "if url2 == '':\n",
    "    print(\"result not found\")  \n",
    "else:\n",
    "    print(url2)"
   ]
  }
 ],
 "metadata": {
  "anaconda-cloud": {},
  "kernelspec": {
   "display_name": "Python [default]",
   "language": "python",
   "name": "python3"
  },
  "language_info": {
   "codemirror_mode": {
    "name": "ipython",
    "version": 3
   },
   "file_extension": ".py",
   "mimetype": "text/x-python",
   "name": "python",
   "nbconvert_exporter": "python",
   "pygments_lexer": "ipython3",
   "version": "3.5.2"
  }
 },
 "nbformat": 4,
 "nbformat_minor": 2
}
