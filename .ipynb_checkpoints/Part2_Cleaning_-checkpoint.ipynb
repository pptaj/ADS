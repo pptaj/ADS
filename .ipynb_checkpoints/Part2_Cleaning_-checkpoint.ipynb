{
 "cells": [
  {
   "cell_type": "code",
   "execution_count": 70,
   "metadata": {
    "collapsed": false
   },
   "outputs": [
    {
     "name": "stdout",
     "output_type": "stream",
     "text": [
      "2008\n",
      "ex.txt\n",
      "2008\n"
     ]
    },
    {
     "ename": "TypeError",
     "evalue": "'int' object is not callable",
     "output_type": "error",
     "traceback": [
      "\u001b[1;31m---------------------------------------------------------------------------\u001b[0m",
      "\u001b[1;31mTypeError\u001b[0m                                 Traceback (most recent call last)",
      "\u001b[1;32m<ipython-input-70-6b1ec620f16b>\u001b[0m in \u001b[0;36m<module>\u001b[1;34m()\u001b[0m\n\u001b[0;32m     30\u001b[0m \u001b[1;32mfor\u001b[0m \u001b[0mfile\u001b[0m \u001b[1;32min\u001b[0m \u001b[0mls_dir\u001b[0m\u001b[1;33m:\u001b[0m\u001b[1;33m\u001b[0m\u001b[0m\n\u001b[0;32m     31\u001b[0m \u001b[1;31m#     only if file is csv\u001b[0m\u001b[1;33m\u001b[0m\u001b[1;33m\u001b[0m\u001b[0m\n\u001b[1;32m---> 32\u001b[1;33m     \u001b[0mlength\u001b[0m \u001b[1;33m=\u001b[0m \u001b[0mlen\u001b[0m\u001b[1;33m(\u001b[0m\u001b[0mls_dir\u001b[0m\u001b[1;33m)\u001b[0m\u001b[1;33m\u001b[0m\u001b[0m\n\u001b[0m\u001b[0;32m     33\u001b[0m     \u001b[0mregexp\u001b[0m \u001b[1;33m=\u001b[0m \u001b[0mre\u001b[0m\u001b[1;33m.\u001b[0m\u001b[0mcompile\u001b[0m\u001b[1;33m(\u001b[0m\u001b[1;34mr'.csv'\u001b[0m\u001b[1;33m)\u001b[0m\u001b[1;33m\u001b[0m\u001b[0m\n\u001b[0;32m     34\u001b[0m     \u001b[1;32mif\u001b[0m\u001b[1;33m(\u001b[0m\u001b[0mregexp\u001b[0m\u001b[1;33m.\u001b[0m\u001b[0msearch\u001b[0m\u001b[1;33m(\u001b[0m\u001b[0mfile\u001b[0m\u001b[1;33m)\u001b[0m\u001b[1;33m)\u001b[0m\u001b[1;33m:\u001b[0m\u001b[1;33m\u001b[0m\u001b[0m\n",
      "\u001b[1;31mTypeError\u001b[0m: 'int' object is not callable"
     ]
    }
   ],
   "source": [
    "import os, sys\n",
    "import re\n",
    "import pandas as pd\n",
    "import numpy as np\n",
    "\n",
    "dir_path = \"Files2\"\n",
    "ls_dir = os.listdir(dir_path)\n",
    "year = 0;\n",
    "\n",
    "# Finding Directory or year for which csv are present\n",
    "for file in ls_dir:\n",
    "    regexp = re.compile(r'.txt')\n",
    "    print(file)\n",
    "    if not(regexp.search(file)):\n",
    "        year = file\n",
    "    \n",
    "# Setting Directory for the year    \n",
    "if not(year == 0):\n",
    "    print(year)\n",
    "    dir_path += \"/\" + str(year)\n",
    "else:\n",
    "    print(\"No Files found! Ending Program\")\n",
    "    sys.exit()\n",
    "    \n",
    "#Looping over all the csv to load and process the data\n",
    "ls_dir = os.listdir(dir_path)\n",
    "\n",
    "i=1;\n",
    "\n",
    "for file in ls_dir:\n",
    "#     only if file is csv\n",
    "    length = len(ls_dir)\n",
    "    regexp = re.compile(r'.csv')\n",
    "    if(regexp.search(file)):\n",
    "        filePath = dir_path + \"/\" + file\n",
    "    #   Reading File data with pandas\n",
    "        fileData = pd.read_csv(filePath,header = 0)\n",
    "\n",
    "        \n",
    "#       adding columns for year, month and day of month\n",
    "        fileData = split_date(fileData)\n",
    "#       adding columns for hour, minutes and seconds\n",
    "        fileData = split_time(fileData)\n",
    "#       adding column for true extension\n",
    "        fileData = true_extention(fileData)\n",
    "#       replace empty \"size\" with 0 if code equals 304\n",
    "        fileData = clean_size(fileData) \n",
    "#       removinf code with value 0\n",
    "        fileData = remove_code(fileData)\n",
    "  \n",
    "\n",
    " #      processed data  \n",
    "        processed_csvs(fileData, filePath,i,length)\n",
    "        i=i+1;\n"
   ]
  },
  {
   "cell_type": "code",
   "execution_count": 53,
   "metadata": {
    "collapsed": true
   },
   "outputs": [],
   "source": [
    "def split_date(fileData):\n",
    "    splitter = fileData['date'].apply(lambda x: x.split('-'))\n",
    "    fileData['year'] = splitter.apply(lambda x: x[0])\n",
    "    fileData['month'] = splitter.apply(lambda x: x[1])\n",
    "    fileData['dayOfMonth'] = splitter.apply(lambda x: x[2])\n",
    "    return fileData\n",
    "    "
   ]
  },
  {
   "cell_type": "code",
   "execution_count": 52,
   "metadata": {
    "collapsed": false
   },
   "outputs": [],
   "source": [
    "def clean_size(fileData):\n",
    "    if (any(fileData['code'] == 304)):\n",
    "        fileData['size'].fillna(0, inplace=True)\n",
    "    return fileData"
   ]
  },
  {
   "cell_type": "code",
   "execution_count": 51,
   "metadata": {
    "collapsed": true
   },
   "outputs": [],
   "source": [
    "def split_time(fileData):\n",
    "    splitter = fileData['time'].apply(lambda x: x.split(':'))\n",
    "    fileData['h'] = splitter.apply(lambda x: x[0])\n",
    "    fileData['m'] = splitter.apply(lambda x: x[1])\n",
    "    fileData['s'] = splitter.apply(lambda x: x[2])\n",
    "    return fileData"
   ]
  },
  {
   "cell_type": "code",
   "execution_count": 50,
   "metadata": {
    "collapsed": true
   },
   "outputs": [],
   "source": [
    "def create_directory(dir_name):\n",
    "    if not os.path.exists(dir_name):\n",
    "        os.makedirs(dir_name)"
   ]
  },
  {
   "cell_type": "code",
   "execution_count": 49,
   "metadata": {
    "collapsed": false
   },
   "outputs": [],
   "source": [
    "def remove_code(fileData):\n",
    "    fileData = fileData[(fileData['code'] != 0)]\n",
    "    return fileData"
   ]
  },
  {
   "cell_type": "code",
   "execution_count": 69,
   "metadata": {
    "collapsed": false
   },
   "outputs": [],
   "source": [
    "def processed_csvs(fileData, filePath,i,length):\n",
    "    fp = re.split('/', filePath, flags=re.IGNORECASE)\n",
    "    new_file_path = fp[0] + \"/\" + fp[1]  + \"/\"\n",
    "    create_directory(new_file_path + \"Cleaned_Files\")\n",
    "    new_file_path += \"Cleaned_Files/Final.csv\"\n",
    "    if(i==1):\n",
    "        fileData.to_csv(new_file_path, sep=',')\n",
    "    else:\n",
    "        with open(new_file_path, 'a') as f:\n",
    "            fileData.to_csv(f, header=False)\n",
    "    i=i+1\n",
    "    #print(\"file %d of %d processed\" %(i,length))"
   ]
  }
 ],
 "metadata": {
  "kernelspec": {
   "display_name": "Python 3",
   "language": "python",
   "name": "python3"
  },
  "language_info": {
   "codemirror_mode": {
    "name": "ipython",
    "version": 3
   },
   "file_extension": ".py",
   "mimetype": "text/x-python",
   "name": "python",
   "nbconvert_exporter": "python",
   "pygments_lexer": "ipython3",
   "version": "3.5.1"
  }
 },
 "nbformat": 4,
 "nbformat_minor": 2
}
