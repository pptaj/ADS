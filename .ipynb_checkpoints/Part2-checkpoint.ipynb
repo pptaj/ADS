{
 "cells": [
  {
   "cell_type": "code",
   "execution_count": 5,
   "metadata": {
    "collapsed": false
   },
   "outputs": [
    {
     "name": "stdout",
     "output_type": "stream",
     "text": [
      "Please enter a valid year.2008\n",
      "12\n"
     ]
    }
   ],
   "source": [
    "import urllib.response\n",
    "import urllib.request\n",
    "from bs4 import BeautifulSoup\n",
    "import pandas as pd\n",
    "import os\n",
    "import re\n",
    "from urllib.request import urlopen\n",
    "\n",
    "#http://www.sec.gov/dera/data/Public-EDGAR-log-file-data/2003/Qtr1/log20030101.zip\n",
    "   \n",
    "#Check if user entered valid year\n",
    "def valid_year(year):\n",
    " if year and year.isdigit():\n",
    "    if int(year) >=2003 and int(year) <=2016:\n",
    "      return year\n",
    "    else:\n",
    "        return \"Please enter years between 2003 and 2016\"\n",
    " else:\n",
    "    return \"Enter numeric year only\"\n",
    "\n",
    "#Take user input\n",
    "year = input(\"Please enter a valid year.\")\n",
    "valid_year(year)\n",
    "\n",
    "#Data available only till: Qtr1,2016\n",
    "url = []\n",
    "\n",
    "if year == \"2016\":\n",
    "    qtr1_url(year)\n",
    "#Any other year excep for 2016, all four quarters    \n",
    "else:\n",
    "    qtr1_url(year)\n",
    "    qtr2_url(year)\n",
    "    qtr3_url(year)\n",
    "    qtr4_url(year)\n",
    "    \n",
    "print(len(url))\n",
    "#print(url[5])"
   ]
  },
  {
   "cell_type": "code",
   "execution_count": null,
   "metadata": {
    "collapsed": false,
    "scrolled": true
   },
   "outputs": [],
   "source": [
    "#Extract all files into folder\n",
    "import requests, zipfile, io\n",
    "i=1;\n",
    "for link in url:\n",
    "    r = requests.get(link)\n",
    "    z = zipfile.ZipFile(io.BytesIO(r.content))\n",
    "    z.extractall(path=\"Files2/\"+str(year))\n",
    "    print( \"%d of %d logs downloaded successfully\" %(i,len(url)))\n",
    "    i = i+1\n",
    "\n",
    "\n",
    "    "
   ]
  },
  {
   "cell_type": "code",
   "execution_count": 6,
   "metadata": {
    "collapsed": false
   },
   "outputs": [],
   "source": [
    "#Generate links foreach quarter\n",
    "def qtr1_url(year):\n",
    "    for i in range(1,4):\n",
    "       url.append(\"http://www.sec.gov/dera/data/Public-EDGAR-log-file-data/\" + str(year) + \"/\"+\"Qtr1/\"+\"log\"+str(year)+\"0\"+str(i)+\"01.zip\")\n",
    "       \n",
    "def qtr2_url(year):\n",
    "    for i in range(4,7):\n",
    "       url.append(\"http://www.sec.gov/dera/data/Public-EDGAR-log-file-data/\" + str(year) + \"/\"+\"Qtr2/\"+\"log\"+str(year)+\"0\"+str(i)+\"01.zip\")\n",
    "def qtr3_url(year):\n",
    "    for i in range(7,10):\n",
    "       url.append(\"http://www.sec.gov/dera/data/Public-EDGAR-log-file-data/\" + str(year) + \"/\"+\"Qtr3/\"+\"log\"+str(year)+\"0\"+str(i)+\"01.zip\")\n",
    "      \n",
    "def qtr4_url(year):\n",
    "    for i in range(10,13):\n",
    "       url.append(\"http://www.sec.gov/dera/data/Public-EDGAR-log-file-data/\" + str(year) + \"/\"+\"Qtr4/\"+\"log\"+str(year)+str(i)+\"01.zip\")\n",
    " \n",
    "     \n",
    "        \n",
    " \n"
   ]
  }
 ],
 "metadata": {
  "anaconda-cloud": {},
  "kernelspec": {
   "display_name": "Python 3",
   "language": "python",
   "name": "python3"
  },
  "language_info": {
   "codemirror_mode": {
    "name": "ipython",
    "version": 3
   },
   "file_extension": ".py",
   "mimetype": "text/x-python",
   "name": "python",
   "nbconvert_exporter": "python",
   "pygments_lexer": "ipython3",
   "version": "3.5.1"
  }
 },
 "nbformat": 4,
 "nbformat_minor": 2
}
