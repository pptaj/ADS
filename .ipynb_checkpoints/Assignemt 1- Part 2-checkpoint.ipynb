{
 "cells": [
  {
   "cell_type": "code",
   "execution_count": 14,
   "metadata": {
    "collapsed": false
   },
   "outputs": [
    {
     "name": "stdout",
     "output_type": "stream",
     "text": [
      "Please enter a valid year.2011\n",
      "12\n"
     ]
    }
   ],
   "source": [
    "import urllib.response\n",
    "import urllib.request\n",
    "from bs4 import BeautifulSoup\n",
    "import pandas as pd\n",
    "import os\n",
    "import re\n",
    "from urllib.request import urlopen\n",
    "\n",
    "#http://www.sec.gov/dera/data/Public-EDGAR-log-file-data/2003/Qtr1/log20030101.zip\n",
    "   \n",
    "#Check if user entered valid year\n",
    "def valid_year(year):\n",
    " if year and year.isdigit():\n",
    "    if int(year) >=2003 and int(year) <=2016:\n",
    "      return year\n",
    "    else:\n",
    "        return \"Please enter years between 2003 and 2016\"\n",
    " else:\n",
    "    return \"Enter numeric year only\"\n",
    "\n",
    "#Take user input\n",
    "year = input(\"Please enter a valid year.\")\n",
    "valid_year(year)\n",
    "\n",
    "#Data available only till: Qtr1,2016\n",
    "url = []\n",
    "\n",
    "if year == \"2016\":\n",
    "    qtr1_url(year)\n",
    "#Any other year excep for 2016, all four quarters    \n",
    "else:\n",
    "    qtr1_url(year)\n",
    "    qtr2_url(year)\n",
    "    qtr3_url(year)\n",
    "    qtr4_url(year)\n",
    "    \n",
    "print(len(url))\n",
    "#print(url[5])"
   ]
  },
  {
   "cell_type": "code",
   "execution_count": 15,
   "metadata": {
    "collapsed": false,
    "scrolled": true
   },
   "outputs": [],
   "source": [
    "#Extract all files into folder\n",
    "import requests, zipfile, io\n",
    "for link in url:\n",
    "    r = requests.get(link)\n",
    "    z = zipfile.ZipFile(io.BytesIO(r.content))\n",
    "    z.extractall(path=\"Files2/\"+str(year))\n",
    "     \n",
    "\n",
    "    "
   ]
  },
  {
   "cell_type": "code",
   "execution_count": 21,
   "metadata": {
    "collapsed": false
   },
   "outputs": [
    {
     "name": "stdout",
     "output_type": "stream",
     "text": [
      "Files2\n",
      "[]\n",
      "['log20110101.csv', 'log20110201.csv', 'log20110301.csv', 'log20110401.csv', 'log20110501.csv', 'log20110601.csv', 'log20110701.csv', 'log20110801.csv', 'log20110901.csv', 'log20111001.csv', 'log20111101.csv', 'log20111201.csv', 'README.txt']\n",
      "log20110101.csv\n",
      "Files2\n",
      "[]\n",
      "['log20110101.csv', 'log20110201.csv', 'log20110301.csv', 'log20110401.csv', 'log20110501.csv', 'log20110601.csv', 'log20110701.csv', 'log20110801.csv', 'log20110901.csv', 'log20111001.csv', 'log20111101.csv', 'log20111201.csv', 'README.txt']\n",
      "log20110201.csv\n",
      "Files2\n",
      "[]\n",
      "['log20110101.csv', 'log20110201.csv', 'log20110301.csv', 'log20110401.csv', 'log20110501.csv', 'log20110601.csv', 'log20110701.csv', 'log20110801.csv', 'log20110901.csv', 'log20111001.csv', 'log20111101.csv', 'log20111201.csv', 'README.txt']\n",
      "log20110301.csv\n",
      "Files2\n",
      "[]\n",
      "['log20110101.csv', 'log20110201.csv', 'log20110301.csv', 'log20110401.csv', 'log20110501.csv', 'log20110601.csv', 'log20110701.csv', 'log20110801.csv', 'log20110901.csv', 'log20111001.csv', 'log20111101.csv', 'log20111201.csv', 'README.txt']\n",
      "log20110401.csv\n",
      "Files2\n",
      "[]\n",
      "['log20110101.csv', 'log20110201.csv', 'log20110301.csv', 'log20110401.csv', 'log20110501.csv', 'log20110601.csv', 'log20110701.csv', 'log20110801.csv', 'log20110901.csv', 'log20111001.csv', 'log20111101.csv', 'log20111201.csv', 'README.txt']\n",
      "log20110501.csv\n",
      "Files2\n",
      "[]\n",
      "['log20110101.csv', 'log20110201.csv', 'log20110301.csv', 'log20110401.csv', 'log20110501.csv', 'log20110601.csv', 'log20110701.csv', 'log20110801.csv', 'log20110901.csv', 'log20111001.csv', 'log20111101.csv', 'log20111201.csv', 'README.txt']\n",
      "log20110601.csv\n",
      "Files2\n",
      "[]\n",
      "['log20110101.csv', 'log20110201.csv', 'log20110301.csv', 'log20110401.csv', 'log20110501.csv', 'log20110601.csv', 'log20110701.csv', 'log20110801.csv', 'log20110901.csv', 'log20111001.csv', 'log20111101.csv', 'log20111201.csv', 'README.txt']\n",
      "log20110701.csv\n",
      "Files2\n",
      "[]\n",
      "['log20110101.csv', 'log20110201.csv', 'log20110301.csv', 'log20110401.csv', 'log20110501.csv', 'log20110601.csv', 'log20110701.csv', 'log20110801.csv', 'log20110901.csv', 'log20111001.csv', 'log20111101.csv', 'log20111201.csv', 'README.txt']\n",
      "log20110801.csv\n",
      "Files2\n",
      "[]\n",
      "['log20110101.csv', 'log20110201.csv', 'log20110301.csv', 'log20110401.csv', 'log20110501.csv', 'log20110601.csv', 'log20110701.csv', 'log20110801.csv', 'log20110901.csv', 'log20111001.csv', 'log20111101.csv', 'log20111201.csv', 'README.txt']\n",
      "log20110901.csv\n",
      "Files2\n",
      "[]\n",
      "['log20110101.csv', 'log20110201.csv', 'log20110301.csv', 'log20110401.csv', 'log20110501.csv', 'log20110601.csv', 'log20110701.csv', 'log20110801.csv', 'log20110901.csv', 'log20111001.csv', 'log20111101.csv', 'log20111201.csv', 'README.txt']\n",
      "log20111001.csv\n",
      "Files2\n",
      "[]\n",
      "['log20110101.csv', 'log20110201.csv', 'log20110301.csv', 'log20110401.csv', 'log20110501.csv', 'log20110601.csv', 'log20110701.csv', 'log20110801.csv', 'log20110901.csv', 'log20111001.csv', 'log20111101.csv', 'log20111201.csv', 'README.txt']\n",
      "log20111101.csv\n",
      "Files2\n",
      "[]\n",
      "['log20110101.csv', 'log20110201.csv', 'log20110301.csv', 'log20110401.csv', 'log20110501.csv', 'log20110601.csv', 'log20110701.csv', 'log20110801.csv', 'log20110901.csv', 'log20111001.csv', 'log20111101.csv', 'log20111201.csv', 'README.txt']\n",
      "log20111201.csv\n"
     ]
    }
   ],
   "source": [
    "import numpy as np\n",
    "import os\n",
    "import pandas as pd\n",
    "#df = pd.DataFrame.from_csv(\"Files2/2011/log20110101.csv\")\n",
    "#df.replace(r'\\s+',np.nan,regex=True).replace('',np.nan)\n",
    "\n",
    "directory = os.path.join(\"Files2\")                         \n",
    "for root,dirs,files in os.walk(directory):\n",
    "    for file in files:\n",
    "        #print(file)\n",
    "        if file.endswith(\".csv\"):\n",
    "            f= open(file, 'wb')\n",
    "            print(directory)\n",
    "            print(dirs)\n",
    "            print(files)\n",
    "            #df = pd.DataFrame.from_csv(\"directory/dirs/a\")\n",
    "            #df.replace(r'\\s+',np.nan,regex=True).replace('',np.nan)\n",
    "            print(f.name)\n",
    "            #print(df)\n",
    "            f.close()\n",
    "\n",
    "\n",
    "#df.sort_index(1)\n"
   ]
  },
  {
   "cell_type": "code",
   "execution_count": 13,
   "metadata": {
    "collapsed": false
   },
   "outputs": [],
   "source": [
    "#Generate links foreach quarter\n",
    "def qtr1_url(year):\n",
    "    for i in range(1,4):\n",
    "       url.append(\"http://www.sec.gov/dera/data/Public-EDGAR-log-file-data/\" + str(year) + \"/\"+\"Qtr1/\"+\"log\"+str(year)+\"0\"+str(i)+\"01.zip\")\n",
    "       \n",
    "def qtr2_url(year):\n",
    "    for i in range(4,7):\n",
    "       url.append(\"http://www.sec.gov/dera/data/Public-EDGAR-log-file-data/\" + str(year) + \"/\"+\"Qtr2/\"+\"log\"+str(year)+\"0\"+str(i)+\"01.zip\")\n",
    "def qtr3_url(year):\n",
    "    for i in range(7,10):\n",
    "       url.append(\"http://www.sec.gov/dera/data/Public-EDGAR-log-file-data/\" + str(year) + \"/\"+\"Qtr3/\"+\"log\"+str(year)+\"0\"+str(i)+\"01.zip\")\n",
    "      \n",
    "def qtr4_url(year):\n",
    "    for i in range(10,13):\n",
    "       url.append(\"http://www.sec.gov/dera/data/Public-EDGAR-log-file-data/\" + str(year) + \"/\"+\"Qtr4/\"+\"log\"+str(year)+str(i)+\"01.zip\")\n",
    " \n",
    "     \n",
    "        \n",
    " \n"
   ]
  }
 ],
 "metadata": {
  "anaconda-cloud": {},
  "kernelspec": {
   "display_name": "Python [default]",
   "language": "python",
   "name": "python3"
  },
  "language_info": {
   "codemirror_mode": {
    "name": "ipython",
    "version": 3
   },
   "file_extension": ".py",
   "mimetype": "text/x-python",
   "name": "python",
   "nbconvert_exporter": "python",
   "pygments_lexer": "ipython3",
   "version": "3.5.2"
  }
 },
 "nbformat": 4,
 "nbformat_minor": 2
}
