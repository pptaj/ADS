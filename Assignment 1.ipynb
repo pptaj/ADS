{
 "cells": [
  {
   "cell_type": "code",
   "execution_count": null,
   "metadata": {
    "collapsed": false
   },
   "outputs": [],
   "source": [
    "import urllib.response\n",
    "import urllib.request\n",
    "from bs4 import BeautifulSoup\n",
    "import pandas as pd\n",
    "from urllib.request import urlopen\n",
    "\n",
    "html = urlopen(\"https://www.sec.gov/Archives/edgar/data/51143/000005114313000007/ibm13q3_10q.htm\")\n",
    "\n",
    "soup = BeautifulSoup(html,\"lxml\")\n",
    "\n",
    "\n"
   ]
  },
  {
   "cell_type": "code",
   "execution_count": null,
   "metadata": {
    "collapsed": false
   },
   "outputs": [],
   "source": [
    "print (soup.prettify())"
   ]
  },
  {
   "cell_type": "code",
   "execution_count": null,
   "metadata": {
    "collapsed": false
   },
   "outputs": [],
   "source": [
    "all_tables = soup.find_all(\"table\")\n",
    "type(all_tables)\n",
    "tables = []\n",
    "for x in all_tables:\n",
    "     tables.append(x)\n",
    "len(tables)\n",
    "\n"
   ]
  },
  {
   "cell_type": "code",
   "execution_count": 28,
   "metadata": {
    "collapsed": false
   },
   "outputs": [
    {
     "name": "stdout",
     "output_type": "stream",
     "text": [
      "[[], ['Three\\xa0Months Ended\\n  September 30,', 'Nine Months Ended\\n  September 30,'], ['(Dollars\\xa0in\\xa0millions\\xa0except\\n  per\\xa0share\\xa0amounts)', '2013', '2012', '2013', '2012'], ['Revenue:'], ['Services', '$', '14,225', '$', '14,626', '$', '42,811', '$', '44,279'], ['Sales', '8,987', '9,642', '27,735', '29,424'], ['Financing', '509', '479', '1,506', '1,500'], ['Total\\n  revenue', '23,720', '24,747', '72,052', '75,203'], ['Cost:'], ['Services', '9,098', '9,515', '27,950', '29,285'], ['Sales', '2,975', '3,242', '9,108', '10,003'], ['Financing', '268', '258', '805', '784'], ['Total\\n  cost', '12,341', '13,016', '37,863', '40,072'], ['Gross\\n  profit', '11,380', '11,732', '34,189', '35,131'], ['Expense\\n  and other income:'], ['Selling,\\n  general and administrative', '5,255', '5,908', '17,512', '17,632'], ['Research,\\n  development and engineering', '1,468', '1,534', '4,661', '4,722'], ['Intellectual\\n  property and custom'], ['development\\n  income', '(191)', '(303)', '(621)', '(847)'], ['Other\\n  (income) and expense', '(62)', '(606)', '(214)', '(796)'], ['Interest\\n  expense', '97', '124', '289', '350'], ['Total\\n  expense and other income', '6,567', '6,657', '21,627', '21,060'], ['Income\\n  before income taxes', '4,812', '5,074', '12,562', '14,071'], ['Provision\\n  for income taxes', '772', '1,251', '2,263', '3,300'], ['Net\\n  income', '$', '4,041', '$', '3,824', '$', '10,299', '$', '10,771'], [], ['Earnings\\n  per share of common stock:'], ['Assuming\\n  dilution', '$', '3.68', '$', '3.33', '$', '9.27', '$', '9.27'], ['Basic', '$', '3.70', '$', '3.36', '$', '9.35', '$', '9.38'], ['Weighted-average\\n  number of common'], ['shares\\n  outstanding: (millions)'], ['Assuming\\n  dilution', '1,098.8', '1,149.3', '1,110.7', '1,161.8'], ['Basic', '1,090.9', '1,137.2', '1,101.8', '1,148.4'], [], ['Cash\\n  dividend per common share', '$', '0.95', '$', '0.85', '$', '2.75', '$', '2.45'], [], ['(Amounts may not add due to rounding.)'], [], ['(The accompanying notes are an integral part of the\\n  financial statements.)']]\n"
     ]
    }
   ],
   "source": [
    "\n",
    "import pandas as pd\n",
    "import csv\n",
    "import string\n",
    "from string import punctuation\n",
    "\n",
    "data = []\n",
    "\n",
    "all_rows =  tables[4].find_all('tr')\n",
    "for row in all_rows:\n",
    "    cols = row.find_all('td')\n",
    "    cols = [ele.text.strip() for ele in cols]\n",
    "    data.append([ele for ele in cols if ele]) \n",
    "      \n",
    "type(data)\n",
    "print(data)\n",
    "\n",
    "\n",
    "#convert to DF\n",
    "df = pd.DataFrame(data)\n",
    "type(df)\n",
    "\n",
    "#with open (r'csv1.csv', 'w', newline='') as write_file:\n",
    "    #write=csv.writer(write_file, delimiter = ',')\n",
    "    #write.writerows([r] for r in data)\n",
    "\n",
    "out = open('out.csv', 'w')\n",
    "for row in data:\n",
    "    for column in row:\n",
    "        out.write(column)\n",
    "    \n",
    "out.close()"
   ]
  },
  {
   "cell_type": "code",
   "execution_count": null,
   "metadata": {
    "collapsed": true
   },
   "outputs": [],
   "source": [
    "write_file = csv.writer(open('csv1.csv', 'wb'))\n",
    "for row in data:\n",
    "    for column in row:\n",
    "        write_file.write(column)\n",
    "    write_file.write('\\n')\n",
    "write_file.close()"
   ]
  },
  {
   "cell_type": "code",
   "execution_count": null,
   "metadata": {
    "collapsed": false
   },
   "outputs": [],
   "source": [
    "spamWriter = csv.writer(open('eggs.csv', 'wb'))\n",
    "spamWriter.writerow(['Spam', 'Lovely, Spam'])\n",
    "\n",
    "with open(\"output.csv\",'wb') as resultFile:\n",
    "    wr = csv.writer(resultFile, dialect='excel')\n",
    "    wr.writerows(RESULTS)"
   ]
  },
  {
   "cell_type": "code",
   "execution_count": null,
   "metadata": {
    "collapsed": false
   },
   "outputs": [],
   "source": [
    "\n",
    "    "
   ]
  }
 ],
 "metadata": {
  "kernelspec": {
   "display_name": "Python 3",
   "language": "python",
   "name": "python3"
  },
  "language_info": {
   "codemirror_mode": {
    "name": "ipython",
    "version": 3
   },
   "file_extension": ".py",
   "mimetype": "text/x-python",
   "name": "python",
   "nbconvert_exporter": "python",
   "pygments_lexer": "ipython3",
   "version": "3.5.2"
  }
 },
 "nbformat": 4,
 "nbformat_minor": 2
}
