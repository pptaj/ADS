{
 "cells": [
  {
   "cell_type": "code",
   "execution_count": 15,
   "metadata": {
    "collapsed": false
   },
   "outputs": [
    {
     "name": "stdout",
     "output_type": "stream",
     "text": [
      "2005\n",
      "ex.txt\n",
      "2005\n",
      "log20050101.csv\n",
      "(168657, 15)\n",
      "Files2/2005/log20050101.csv\n",
      "Files2\n",
      "log20050201.csv\n",
      "(618490, 15)\n",
      "Files2/2005/log20050201.csv\n",
      "Files2\n",
      "log20050301.csv\n",
      "(662028, 15)\n",
      "Files2/2005/log20050301.csv\n",
      "Files2\n",
      "log20050401.csv\n",
      "(5346, 15)\n",
      "Files2/2005/log20050401.csv\n",
      "Files2\n",
      "log20050501.csv\n",
      "(138448, 15)\n",
      "Files2/2005/log20050501.csv\n",
      "Files2\n",
      "log20050601.csv\n",
      "(330637, 15)\n",
      "Files2/2005/log20050601.csv\n",
      "Files2\n",
      "log20050701.csv\n",
      "(304440, 15)\n",
      "Files2/2005/log20050701.csv\n",
      "Files2\n",
      "log20050801.csv\n",
      "(299748, 15)\n",
      "Files2/2005/log20050801.csv\n",
      "Files2\n",
      "log20050901.csv\n",
      "(229874, 15)\n",
      "Files2/2005/log20050901.csv\n",
      "Files2\n",
      "log20051001.csv\n",
      "(1541, 15)\n",
      "Files2/2005/log20051001.csv\n",
      "Files2\n",
      "log20051101.csv\n",
      "(3870, 15)\n",
      "Files2/2005/log20051101.csv\n",
      "Files2\n",
      "log20051201.csv\n",
      "(262464, 15)\n",
      "Files2/2005/log20051201.csv\n",
      "Files2\n"
     ]
    }
   ],
   "source": [
    "import os, sys\n",
    "import re\n",
    "import pandas as pd\n",
    "import numpy as np\n",
    "\n",
    "dir_path = \"Files2\"\n",
    "ls_dir = os.listdir(dir_path)\n",
    "year = 0;\n",
    "\n",
    "# Finding Directory or year for which csv are present\n",
    "for file in ls_dir:\n",
    "    regexp = re.compile(r'.txt')\n",
    "    print(file)\n",
    "    if not(regexp.search(file)):\n",
    "        year = file\n",
    "    \n",
    "# Setting Directory for the year    \n",
    "if not(year == 0):\n",
    "    print(year)\n",
    "    dir_path += \"/\" + str(year)\n",
    "else:\n",
    "    print(\"No Files found! Ending Program\")\n",
    "    sys.exit()\n",
    "    \n",
    "#Looping over all the csv to load and process the data\n",
    "ls_dir = os.listdir(dir_path)\n",
    "\n",
    "for file in ls_dir:\n",
    "#     only if file is csv\n",
    "    regexp = re.compile(r'.csv')\n",
    "    if(regexp.search(file)):\n",
    "        print(file)\n",
    "        filePath = dir_path + \"/\" + file\n",
    "    #   Reading File data with pandas\n",
    "        fileData = pd.read_csv(filePath,header = 0)\n",
    "#         Printing file shape -  rows,columns\n",
    "        print(fileData.shape)\n",
    "\n",
    "    \n",
    "    \n",
    "#       adding columns for year, month and day of month\n",
    "        fileData = split_date(fileData)\n",
    "#       adding column for true extension\n",
    "        fileData = true_extention(fileData)\n",
    "#       replace empty values for \"browser\"\n",
    "        fileData = clean_browser(fileData)\n",
    "#       replace empty \"size\" with mean\n",
    "        fileData = clean_size(fileData) \n",
    "#      -------------------------------------------------\n",
    "\n",
    "#      ADD YOUR CODE TO TO CLEANING BELOW THIS\n",
    "        \n",
    "        \n",
    "        \n",
    " \n",
    "\n",
    "#       ADD YOUR CODE TO TO CLEANING ABOVE THIS\n",
    "\n",
    "#         --------------------------------------------\n",
    "#       Writing dataframe to csv again\n",
    "        print(filePath)\n",
    "        fp = re.split('/', filePath, flags=re.IGNORECASE)\n",
    "        print(fp[0])\n",
    "        new_file_path = fp[0] + \"/\" + fp[1]  + \"/\"\n",
    "        create_directory(new_file_path + \"Cleaned_Files\")\n",
    "        new_file_path += \"Cleaned_Files/\" + fp[2]\n",
    "        fileData.to_csv(new_file_path, sep=',')\n",
    "        \n",
    "\n",
    "        \n"
   ]
  },
  {
   "cell_type": "code",
   "execution_count": 4,
   "metadata": {
    "collapsed": true
   },
   "outputs": [],
   "source": [
    "def split_date(fileData):\n",
    "    splitter = fileData['date'].apply(lambda x: x.split('-'))\n",
    "    fileData['year'] = splitter.apply(lambda x: x[0])\n",
    "    fileData['month'] = splitter.apply(lambda x: x[1])\n",
    "    fileData['dayOfMonth'] = splitter.apply(lambda x: x[2])\n",
    "    return fileData\n",
    "    "
   ]
  },
  {
   "cell_type": "code",
   "execution_count": 3,
   "metadata": {
    "collapsed": true
   },
   "outputs": [],
   "source": [
    "def true_extention(fileData):\n",
    "    splitter = fileData['extention'].apply(lambda x: x.split('.'))\n",
    "    try:\n",
    "        fileData['file_name'] = splitter.apply(lambda x: x[0])\n",
    "        fileData['true_extention'] = splitter.apply(lambda x: x[1])\n",
    "#         no true_extention created\n",
    "    except:\n",
    "        pass\n",
    "    return fileData"
   ]
  },
  {
   "cell_type": "code",
   "execution_count": 2,
   "metadata": {
    "collapsed": false
   },
   "outputs": [],
   "source": [
    "def clean_browser(fileData):\n",
    "    mode_of_browser = fileData['browser'].mode()\n",
    "    fileData['browser'].fillna(mode_of_browser[0], inplace=True)\n",
    "    return fileData"
   ]
  },
  {
   "cell_type": "code",
   "execution_count": 1,
   "metadata": {
    "collapsed": true
   },
   "outputs": [],
   "source": [
    "def clean_size(fileData):\n",
    "    mean_of_size = fileData['size'].mean()\n",
    "    fileData['size'].fillna(round(mean_of_size), inplace=True)\n",
    "    return fileData"
   ]
  },
  {
   "cell_type": "code",
   "execution_count": 14,
   "metadata": {
    "collapsed": true
   },
   "outputs": [],
   "source": [
    "def create_directory(dir_name):\n",
    "    if not os.path.exists(dir_name):\n",
    "        os.makedirs(dir_name)"
   ]
  }
 ],
 "metadata": {
  "kernelspec": {
   "display_name": "Python [default]",
   "language": "python",
   "name": "python3"
  },
  "language_info": {
   "codemirror_mode": {
    "name": "ipython",
    "version": 3
   },
   "file_extension": ".py",
   "mimetype": "text/x-python",
   "name": "python",
   "nbconvert_exporter": "python",
   "pygments_lexer": "ipython3",
   "version": "3.5.2"
  }
 },
 "nbformat": 4,
 "nbformat_minor": 2
}
