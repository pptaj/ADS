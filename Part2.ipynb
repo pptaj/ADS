{
 "cells": [
  {
   "cell_type": "code",
   "execution_count": 4,
   "metadata": {
    "collapsed": false
   },
   "outputs": [
    {
     "name": "stderr",
     "output_type": "stream",
     "text": [
      "Starting Program\n"
     ]
    },
    {
     "name": "stdout",
     "output_type": "stream",
     "text": [
      "Progress : 1%\n",
      "Please enter a valid year.2003\n",
      "Progress : 10%"
     ]
    },
    {
     "name": "stderr",
     "output_type": "stream",
     "text": [
      "Generating Links for log files\n",
      "Downloading and Extracting Log files\n"
     ]
    },
    {
     "name": "stdout",
     "output_type": "stream",
     "text": [
      "Progress : 30%\n",
      "It may take some time\n",
      "Progress : 85%"
     ]
    },
    {
     "name": "stderr",
     "output_type": "stream",
     "text": [
      "Downloading Completed\n"
     ]
    },
    {
     "name": "stdout",
     "output_type": "stream",
     "text": [
      "\r",
      "Progress : 90%\r",
      "Progress : 100%"
     ]
    }
   ],
   "source": [
    "import urllib.response\n",
    "import urllib.request\n",
    "from bs4 import BeautifulSoup\n",
    "import pandas as pd\n",
    "import os\n",
    "import re\n",
    "from urllib.request import urlopen\n",
    "import logging\n",
    "import requests, zipfile, io, sys, time\n",
    "#http://www.sec.gov/dera/data/Public-EDGAR-log-file-data/2003/Qtr1/log20030101.zip\n",
    "   \n",
    "\n",
    "    \n",
    "    \n",
    "logger = get_logger()\n",
    "logger.info(\"Starting Program\")\n",
    "sys.stdout.write(\"\\rProgress : %d%%\" % 0)\n",
    "time.sleep(1)\n",
    "sys.stdout.write(\"\\rProgress : %d%%\" % 1)\n",
    "time.sleep(1)\n",
    "\n",
    "year = 0\n",
    "\n",
    "\n",
    "\n",
    "while ((year < 2003) or (year > 2016)):\n",
    "    try:\n",
    "        year = int(input(\"\\nPlease enter a valid year.\"))\n",
    "#         print(year)\n",
    "    except ValueError:\n",
    "#         print(\"Not a valid year\\n\")\n",
    "        logger.info(\"\\nNot a valid year\")\n",
    "        \n",
    "sys.stdout.write(\"\\rProgress : %d%%\" % 10)\n",
    "time.sleep(1)\n",
    "#Data available only till: Qtr1,2016\n",
    "url = []\n",
    "\n",
    "if year == \"2016\":\n",
    "    qtr1_url(year)\n",
    "#Any other year excep for 2016, all four quarters    \n",
    "else:\n",
    "    logger.info(\"Generating Links for log files\")\n",
    "    sys.stdout.write(\"\\rProgress : %d%%\" % 15)\n",
    "    qtr1_url(year)\n",
    "    sys.stdout.write(\"\\rProgress : %d%%\" % 20)\n",
    "    qtr2_url(year)\n",
    "    sys.stdout.write(\"\\rProgress : %d%%\" % 25)\n",
    "    qtr3_url(year)\n",
    "    sys.stdout.write(\"\\rProgress : %d%%\" % 30)\n",
    "    qtr4_url(year)\n",
    "    \n",
    "#print(url[5])\n",
    "#Extract all files into folder\n",
    "i = 30\n",
    "logger.info(\"Downloading and Extracting Log files\")\n",
    "print(\"\\nIt may take some time\")\n",
    "for link in url:\n",
    "    r = requests.get(link)\n",
    "    z = zipfile.ZipFile(io.BytesIO(r.content))\n",
    "    z.extractall(path=\"Files2/\"+str(year))\n",
    "    i+=5\n",
    "    sys.stdout.write(\"\\rProgress : %d%%\" % i)\n",
    "logger.info(\"Downloading Completed\") \n",
    "logger.removeHandler(\"handler\")\n",
    "logging.shutdown()\n",
    "sys.stdout.write(\"\\rProgress : %d%%\" % 100)\n",
    "sys.stdout.flush()"
   ]
  },
  {
   "cell_type": "code",
   "execution_count": 1,
   "metadata": {
    "collapsed": false
   },
   "outputs": [],
   "source": [
    "#Generate links foreach quarter\n",
    "def qtr1_url(year):\n",
    "    for i in range(1,4):\n",
    "       url.append(\"http://www.sec.gov/dera/data/Public-EDGAR-log-file-data/\" + str(year) + \"/\"+\"Qtr1/\"+\"log\"+str(year)+\"0\"+str(i)+\"01.zip\")\n",
    "       \n",
    "def qtr2_url(year):\n",
    "    for i in range(4,7):\n",
    "       url.append(\"http://www.sec.gov/dera/data/Public-EDGAR-log-file-data/\" + str(year) + \"/\"+\"Qtr2/\"+\"log\"+str(year)+\"0\"+str(i)+\"01.zip\")\n",
    "def qtr3_url(year):\n",
    "    for i in range(7,10):\n",
    "       url.append(\"http://www.sec.gov/dera/data/Public-EDGAR-log-file-data/\" + str(year) + \"/\"+\"Qtr3/\"+\"log\"+str(year)+\"0\"+str(i)+\"01.zip\")\n",
    "      \n",
    "def qtr4_url(year):\n",
    "    for i in range(10,13):\n",
    "       url.append(\"http://www.sec.gov/dera/data/Public-EDGAR-log-file-data/\" + str(year) + \"/\"+\"Qtr4/\"+\"log\"+str(year)+str(i)+\"01.zip\")\n",
    " \n",
    "     \n",
    "        \n",
    " \n"
   ]
  },
  {
   "cell_type": "code",
   "execution_count": 2,
   "metadata": {
    "collapsed": true
   },
   "outputs": [],
   "source": [
    "def get_logger():\n",
    "    create_directory(\"Files2\")\n",
    "    loglevel = logging.INFO            # DEBUG, CRITICAL, WARNING, ERROR\n",
    "    logger = logging.getLogger(\"Application_Logs\")\n",
    "    logger2 = logging.getLogger(\"Application_Logs_Stream\")\n",
    "    if not getattr(logger, 'handler_set', None):\n",
    "        logger.setLevel(logging.INFO)\n",
    "#         Logfile handler\n",
    "        handler = logging.FileHandler('Files2/logs.log')\n",
    "        handler2 = logging.StreamHandler()\n",
    "        formatter = logging.Formatter('%(asctime)s %(levelname)s %(message)s')\n",
    "        handler.setFormatter(formatter)\n",
    "        logger.addHandler(handler)\n",
    "        logger.addHandler(handler2)\n",
    "        logger.setLevel(loglevel)\n",
    "        logger.handler_set = True\n",
    "#       Stream Handler\n",
    "    if not getattr(logger, 'handler_set', None):\n",
    "        logger2.setLevel(logging.INFO)\n",
    "        handler2 = logging.StreamHandler()\n",
    "        handler2.setFormatter(formatter)\n",
    "        logger2.addHandler(handler2)\n",
    "        logger2.setLevel(loglevel)\n",
    "        logger2.handler_set = True\n",
    "        \n",
    "    return logger"
   ]
  },
  {
   "cell_type": "code",
   "execution_count": 3,
   "metadata": {
    "collapsed": true
   },
   "outputs": [],
   "source": [
    "def create_directory(dir_name):\n",
    "    if not os.path.exists(dir_name):\n",
    "        os.makedirs(dir_name)"
   ]
  }
 ],
 "metadata": {
  "anaconda-cloud": {},
  "kernelspec": {
   "display_name": "Python [default]",
   "language": "python",
   "name": "python3"
  },
  "language_info": {
   "codemirror_mode": {
    "name": "ipython",
    "version": 3
   },
   "file_extension": ".py",
   "mimetype": "text/x-python",
   "name": "python",
   "nbconvert_exporter": "python",
   "pygments_lexer": "ipython3",
   "version": "3.5.2"
  }
 },
 "nbformat": 4,
 "nbformat_minor": 2
}
